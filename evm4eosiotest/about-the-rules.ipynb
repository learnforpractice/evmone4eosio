{
 "cells": [
  {
   "cell_type": "markdown",
   "metadata": {},
   "source": [
    "# 1. The Application MUST persist an “Account Table” consisting of:\n",
    "> * A unique 160bit account ID\n",
    "> * A nonce (sequence number)\n",
    "> * An EOSIO token balance (aka SYS)\n",
    "> * [optionally,] a unique associated EOSIO account\n",
    "\n",
    "relative code:\n",
    "https://github.com/learnforpractice/evmone4eosio-private/blob/evm4eosio/ethereum_vm/table_struct.hpp#L62\n"
   ]
  },
  {
   "cell_type": "markdown",
   "metadata": {},
   "source": [
    "# 2. The Application MUST persist an “Account State Table” per account, if it would not be empty, consisting of:\n",
    "> * A unique 256bit key\n",
    "> * A 256bit value\n",
    "\n",
    "https://github.com/learnforpractice/evmone4eosio-private/blob/evm4eosio/ethereum_vm/table_struct.hpp#L91\n",
    "\n",
    "https://github.com/learnforpractice/evmone4eosio-private/blob/evm4eosio/ethereum_vm/eth_account.cpp#L480\n",
    "\n",
    "https://github.com/learnforpractice/evmone4eosio-private/blob/evm4eosio/ethereum_vm/eth_account.cpp#L450\n",
    "\n",
    "https://github.com/learnforpractice/evmone4eosio-private/blob/evm4eosio/ethereum_vm/eth_account.cpp#L521\n",
    "\n"
   ]
  },
  {
   "cell_type": "markdown",
   "metadata": {},
   "source": [
    "# 3.The Application MUST persist an “Account Code Table” per account, if it would not be empty, consisting of:\n",
    "EVM bytecode associated with account\n",
    "\n",
    "\n",
    "https://github.com/learnforpractice/evmone4eosio-private/blob/evm4eosio/ethereum_vm/table_struct.hpp#L113\n",
    "\n",
    "https://github.com/learnforpractice/evmone4eosio-private/blob/evm4eosio/ethereum_vm/eth_account.cpp#L357\n",
    "\n",
    "https://github.com/learnforpractice/evmone4eosio-private/blob/evm4eosio/ethereum_vm/eth_account.cpp#L335\n",
    "\n",
    "https://github.com/learnforpractice/evmone4eosio-private/blob/evm4eosio/ethereum_vm/eth_account.cpp#L387\n"
   ]
  },
  {
   "cell_type": "markdown",
   "metadata": {},
   "source": [
    "\n",
    "# 4. The Application MUST execute EVM transactions as faithfully to the Ethereum Yellow Paper as Possible, with the following specific requirements:\n",
    "\n",
    "1. There will be no effective BLOCK gas limit. Instructions that return a BLOCK limit should return a  sufficiently large supply\n",
    "\n",
    "https://github.com/learnforpractice/evmone4eosio-private/blob/evm4eosio/lib/evmone/evmhost.cpp#L17\n",
    "\n",
    "2. The TRANSACTION gas limit will be enforced\n",
    "https://github.com/learnforpractice/evmone4eosio-private/blob/evm4eosio/lib/evmone/evmone4eosio.cpp#L70\n",
    "\n",
    "3. The sender WILL NOT be billed for the gas, the gas price MAY therefore be locked at some suitable value.\n",
    "\n",
    "gas price is set to 0\n",
    "\n",
    "https://github.com/learnforpractice/evmone4eosio-private/blob/evm4eosio/lib/evmone/evmhost.cpp#L12\n",
    "\n",
    "4. All other gas mechanics/instructions should be maintained\n",
    "\n",
    "5. Block number and timestamp should represent the native EOSIO block number and time\n",
    "\n",
    "https://github.com/learnforpractice/evmone4eosio-private/blob/evm4eosio/lib/evmone/evmhost.cpp#L15\n",
    "\n",
    "\n",
    "6. Block hash, coinbase, and difficulty should return static values\n",
    "\n",
    "\n",
    "https://github.com/learnforpractice/evmone4eosio-private/blob/evm4eosio/lib/evmone/evmhost.cpp#L162\n",
    "\n",
    "https://github.com/learnforpractice/evmone4eosio-private/blob/evm4eosio/lib/evmone/evmhost.cpp#L13\n",
    "\n",
    "https://github.com/learnforpractice/evmone4eosio-private/blob/evm4eosio/lib/evmone/evmhost.cpp#L12\n",
    "\n"
   ]
  },
  {
   "cell_type": "markdown",
   "metadata": {},
   "source": [
    "\n",
    "# 5. The Application MUST implement an action named “raw”:\n",
    "\n",
    "Whose inputs are:\n",
    "> * a binary Ethereum transaction encoded as it appears in a serialized Ethereum block\n",
    "[optionally,]\n",
    "> * a 160bit account identifier “Sender”\n",
    "\n",
    "Which results in the:\n",
    "> * Appropriate Updates to Account, Account State, and Account Code Tables reflecting the application of the transaction\n",
    "> * Log output (via EOSIO print intrinsics)\n",
    "\n",
    "If the “R” and “S” values of the transaction are NOT 0:\n",
    "> * A transaction containing this action must fail if the signature (V, R, S) within the input does not recover to a valid and known 160bit account identifier in the Accounts Table\n",
    "\n",
    "\n",
    "If the “R” and “S” values of the transaction are 0:\n",
    "> * A transaction containing this action must fail if “Sender” input parameter is not present or does not refer to a valid and known 160bit account identifier in the Accounts Table\n",
    "\n",
    "> * If the associated entry in the Accounts Table has no Associated EOSIO Account OR if the transaction has not been authorized by the Associated EOSIO Account\n",
    "\n",
    "\n",
    "code:\n",
    "\n",
    "https://github.com/learnforpractice/evmone4eosio-private/blob/evm4eosio/lib/evmone/evmone4eosio.cpp#L61\n",
    "\n",
    "\n",
    "test case:\n",
    "```\n",
    "python3.7 evm_test.py EVMTestCase.test_sign_with_eos_private_key\n",
    "\n",
    "python3.7 evm_test.py EVMTestCase.test_correct_sender\n",
    "\n",
    "python3.7 evm_test.py EVMTestCase.test_incorrect_sender\n",
    "\n",
    "python3.7 evm_test.py EVMTestCase.test_incorrect_sender_authorization\n",
    "```\n"
   ]
  },
  {
   "cell_type": "markdown",
   "metadata": {},
   "source": [
    "# 6. The Application MUST implement an action named “create”:\n",
    "\n",
    "Whose inputs are:\n",
    "> * An EOSIO account\n",
    "> * An arbitrary length string\n",
    "\n",
    "Which results in new Account Table entry with:\n",
    "> * Balance = 0\n",
    "> * Nonce = 1\n",
    "> * Account identifier = the rightmost 160 bits of the Keccak hash of the RLP encoding of the structure containing only the EOSIO account name and the arbitrary input string.\n",
    "\n",
    "A transaction containing this action must fail if it is not authorized by the EOSIO account listed in the inputs\n",
    "\n",
    "A transaction containing this action must fail if an Account Table Entry exists with this EOSIO account associated.\n",
    "\n",
    "\n",
    "code:\n",
    "\n",
    "https://github.com/learnforpractice/evmone4eosio-private/blob/evm4eosio/ethereum_vm/ethereum_vm.cpp#L141\n"
   ]
  },
  {
   "cell_type": "markdown",
   "metadata": {},
   "source": [
    "# 7. The Application MUST respond to EOSIO token transfers:\n",
    "7.1 Provided that the EOSIO account in the “from” field of the transfer maps to a known and valid Account Table entry through the entry’s unique Associated EOSIO account\n",
    "\n",
    "7.2 Transferred tokens should be added to the Account Table entry’s balance\n",
    "\n",
    "\n",
    "code:\n",
    "\n",
    "https://github.com/learnforpractice/evmone4eosio-private/blob/evm4eosio/ethereum_vm/ethereum_vm.cpp#L224\n"
   ]
  },
  {
   "cell_type": "markdown",
   "metadata": {},
   "source": [
    "# 8. The Application MUST implement an action named “withdraw”:\n",
    "Whose inputs are:\n",
    "> * An EOSIO account\n",
    "> * A token amount\n",
    "\n",
    "Which results in:\n",
    "> * Deducting the amount from the associated Account Table Entry’s balance\n",
    "> * Sending an inline EOSIO token transfer for the amount to the EOSIO account\n",
    "\n",
    "A transaction containing this action must fail if it is not authorized by the EOSIO account listed in the inputs OR if such a withdrawal would leave the Account Table Entry’s balance negative.\n",
    "\n",
    "\n",
    "https://github.com/learnforpractice/evmone4eosio-private/blob/evm4eosio/ethereum_vm/ethereum_vm.cpp#L177"
   ]
  },
  {
   "cell_type": "markdown",
   "metadata": {},
   "source": [
    "\n",
    "# 9. The Application MAY implement additional actions for maintenance or transaction processing so long as they do not violate the key principles of the execution model above.\n"
   ]
  },
  {
   "cell_type": "markdown",
   "metadata": {},
   "source": [
    "# 10. The Application MUST implement some method of specifying the “CHAIN_ID” for EIP-155 compatibility:\n",
    "This MAY be done at compile time\n",
    "This MAY be done with an additional initialization action\n",
    "\n",
    "\n",
    "https://github.com/learnforpractice/evmone4eosio-private/blob/evm4eosio/lib/evmone/evmone4eosio.cpp#L106\n",
    "\n",
    "https://github.com/learnforpractice/evmone4eosio-private/blob/evm4eosio/lib/evmone/evmone4eosio.cpp#L122\n",
    "\n",
    "https://github.com/learnforpractice/evmone4eosio-private/blob/evm4eosio/lib/evmone/evmone4eosio.cpp#L144\n"
   ]
  }
 ],
 "metadata": {
  "kernelspec": {
   "display_name": "Python 3",
   "language": "python",
   "name": "python3"
  },
  "language_info": {
   "codemirror_mode": {
    "name": "ipython",
    "version": 3
   },
   "file_extension": ".py",
   "mimetype": "text/x-python",
   "name": "python",
   "nbconvert_exporter": "python",
   "pygments_lexer": "ipython3",
   "version": "3.7.4"
  }
 },
 "nbformat": 4,
 "nbformat_minor": 2
}

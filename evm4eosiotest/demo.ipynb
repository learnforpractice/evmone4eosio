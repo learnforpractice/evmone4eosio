{
 "cells": [
  {
   "cell_type": "markdown",
   "metadata": {},
   "source": [
    "# Initailize"
   ]
  },
  {
   "cell_type": "code",
   "execution_count": 1,
   "metadata": {},
   "outputs": [
    {
     "name": "stdout",
     "output_type": "stream",
     "text": [
      "done!\n"
     ]
    }
   ],
   "source": [
    "from init import *\n",
    "from pyeoskit import eosapi\n",
    "import evm\n",
    "from evm import w3\n",
    "\n",
    "evm.set_chain_id(1)\n",
    "\n",
    "print('done!')"
   ]
  },
  {
   "cell_type": "code",
   "execution_count": 2,
   "metadata": {},
   "outputs": [
    {
     "data": {
      "text/plain": [
       "10001000.0"
      ]
     },
     "execution_count": 2,
     "metadata": {},
     "output_type": "execute_result"
    }
   ],
   "source": [
    "eosapi.get_balance('helloworld12')"
   ]
  },
  {
   "cell_type": "code",
   "execution_count": 3,
   "metadata": {},
   "outputs": [
    {
     "data": {
      "text/plain": [
       "10001000.0"
      ]
     },
     "execution_count": 3,
     "metadata": {},
     "output_type": "execute_result"
    }
   ],
   "source": [
    "eosapi.get_balance('helloworld11')"
   ]
  },
  {
   "cell_type": "markdown",
   "metadata": {},
   "source": [
    "# Add eosio.code to active permission"
   ]
  },
  {
   "cell_type": "code",
   "execution_count": 4,
   "metadata": {},
   "outputs": [],
   "source": [
    "main_account = 'helloworld11'\n",
    "test_account = 'helloworld12'\n",
    "evm.set_current_account(test_account)\n",
    "\n",
    "a = {\n",
    "    \"account\": main_account,\n",
    "    \"permission\": \"active\",\n",
    "    \"parent\": \"owner\",\n",
    "    \"auth\": {\n",
    "        \"threshold\": 1,\n",
    "        \"keys\": [\n",
    "            {\n",
    "                \"key\": \"EOS7ent7keWbVgvptfYaMYeF2cenMBiwYKcwEuc11uCbStsFKsrmV\",\n",
    "                \"weight\": 1\n",
    "            },\n",
    "        ],\n",
    "        \"accounts\": [{\"permission\":{\"actor\":main_account,\"permission\":\"eosio.code\"},\"weight\":1}],\n",
    "        \"waits\": []\n",
    "    }\n",
    "}\n",
    "r = eosapi.push_action('eosio', 'updateauth', a, {main_account:'owner'})"
   ]
  },
  {
   "cell_type": "markdown",
   "metadata": {},
   "source": [
    "# Deploy evm smart contract to network"
   ]
  },
  {
   "cell_type": "code",
   "execution_count": 5,
   "metadata": {
    "scrolled": true
   },
   "outputs": [
    {
     "name": "stdout",
     "output_type": "stream",
     "text": [
      "15255\n",
      "Done!\n"
     ]
    }
   ],
   "source": [
    "vm_abi = open('./contracts/ethereum_vm/ethereum_vm.abi', 'rb').read()\n",
    "vm_code = open('./contracts/ethereum_vm/ethereum_vm.wasm', 'rb').read()\n",
    "r = eosapi.publish_contract('helloworld11', vm_code, vm_abi, vmtype=0, vmversion=0, sign=True, compress=1)\n",
    "print(r['processed']['elapsed'])\n",
    "print(\"Done!\")"
   ]
  },
  {
   "cell_type": "markdown",
   "metadata": {},
   "source": [
    "# Set a Chain Id"
   ]
  },
  {
   "cell_type": "code",
   "execution_count": 6,
   "metadata": {},
   "outputs": [
    {
     "name": "stdout",
     "output_type": "stream",
     "text": [
      "19719\n"
     ]
    }
   ],
   "source": [
    "args = {'chainid': 1}\n",
    "try:\n",
    "    r = eosapi.push_action(main_account, 'setchainid', args, {main_account:'active'})\n",
    "    print(r['processed']['elapsed'])\n",
    "except Exception as e:\n",
    "    print(e)"
   ]
  },
  {
   "cell_type": "markdown",
   "metadata": {},
   "source": [
    "# # Create an ETH account and bind it to an EOS account"
   ]
  },
  {
   "cell_type": "code",
   "execution_count": 7,
   "metadata": {
    "scrolled": true
   },
   "outputs": [
    {
     "name": "stdout",
     "output_type": "stream",
     "text": [
      "+++ f375c0d7e20a15b3d35af771763ca166d54cce97\n",
      "++++elapsed: 518\n"
     ]
    }
   ],
   "source": [
    "eth_address = None\n",
    "args = {'account': test_account, 'text': 'hello,world'}\n",
    "try:\n",
    "    ret = eosapi.push_action(main_account, 'create', args, {test_account:'active'})\n",
    "    eth_address = ret['processed']['action_traces'][0]['console']\n",
    "    print('+++', eth_address)\n",
    "    print('++++elapsed:', ret['processed']['elapsed'])\n",
    "\n",
    "except Exception as e:\n",
    "    if hasattr(e, 'response'):\n",
    "        parsed = json.loads(e.response)\n",
    "        print('+++error:\\n', json.dumps(parsed, indent=4))\n",
    "    else:\n",
    "        print(e)"
   ]
  },
  {
   "cell_type": "code",
   "execution_count": 8,
   "metadata": {},
   "outputs": [],
   "source": [
    "eth_account = evm.EthAccount('helloworld11', 'f375c0d7e20a15b3d35af771763ca166d54cce97')"
   ]
  },
  {
   "cell_type": "code",
   "execution_count": 9,
   "metadata": {},
   "outputs": [
    {
     "data": {
      "text/plain": [
       "0.0"
      ]
     },
     "execution_count": 9,
     "metadata": {},
     "output_type": "execute_result"
    }
   ],
   "source": [
    "eth_account.get_balance()"
   ]
  },
  {
   "cell_type": "code",
   "execution_count": 10,
   "metadata": {},
   "outputs": [
    {
     "data": {
      "text/plain": [
       "1"
      ]
     },
     "execution_count": 10,
     "metadata": {},
     "output_type": "execute_result"
    }
   ],
   "source": [
    "eth_account.get_nonce()"
   ]
  },
  {
   "cell_type": "markdown",
   "metadata": {},
   "source": [
    "### Verify eth address method 1"
   ]
  },
  {
   "cell_type": "code",
   "execution_count": 11,
   "metadata": {},
   "outputs": [
    {
     "name": "stdout",
     "output_type": "stream",
     "text": [
      "f375c0d7e20a15b3d35af771763ca166d54cce97\n"
     ]
    }
   ],
   "source": [
    "import rlp\n",
    "import hashlib\n",
    "from eth_utils import keccak\n",
    "e = rlp.encode([test_account, 'hello,world'])\n",
    "h = keccak(e)\n",
    "if eth_address:\n",
    "    print(h[12:].hex())\n",
    "    assert eth_address == h[12:].hex()\n",
    "else:\n",
    "    eth_address = h[12:].hex()\n",
    "    print(eth_address)"
   ]
  },
  {
   "cell_type": "markdown",
   "metadata": {},
   "source": [
    "# Deposit Test"
   ]
  },
  {
   "cell_type": "code",
   "execution_count": 12,
   "metadata": {},
   "outputs": [
    {
     "name": "stdout",
     "output_type": "stream",
     "text": [
      "++++console: +++++eth amount:0\n"
     ]
    }
   ],
   "source": [
    "r = eosapi.transfer('helloworld12', 'helloworld11', 10.0, 'deposit')\n",
    "print('++++console:', r['processed']['action_traces'][0]['inline_traces'][1]['console'])"
   ]
  },
  {
   "cell_type": "code",
   "execution_count": 13,
   "metadata": {},
   "outputs": [
    {
     "data": {
      "text/plain": [
       "10.0"
      ]
     },
     "execution_count": 13,
     "metadata": {},
     "output_type": "execute_result"
    }
   ],
   "source": [
    "eth_account.get_balance()"
   ]
  },
  {
   "cell_type": "markdown",
   "metadata": {},
   "source": [
    "# Withdraw Test"
   ]
  },
  {
   "cell_type": "code",
   "execution_count": 14,
   "metadata": {},
   "outputs": [
    {
     "data": {
      "text/plain": [
       "10000990.0"
      ]
     },
     "execution_count": 14,
     "metadata": {},
     "output_type": "execute_result"
    }
   ],
   "source": [
    "eosapi.get_balance('helloworld12')"
   ]
  },
  {
   "cell_type": "markdown",
   "metadata": {},
   "source": [
    "### Check balance in ETH account"
   ]
  },
  {
   "cell_type": "code",
   "execution_count": 15,
   "metadata": {},
   "outputs": [
    {
     "data": {
      "text/plain": [
       "10.0"
      ]
     },
     "execution_count": 15,
     "metadata": {},
     "output_type": "execute_result"
    }
   ],
   "source": [
    "eth_account.get_balance()"
   ]
  },
  {
   "cell_type": "markdown",
   "metadata": {},
   "source": [
    "### Withdraw 1.0000"
   ]
  },
  {
   "cell_type": "code",
   "execution_count": 16,
   "metadata": {},
   "outputs": [
    {
     "name": "stdout",
     "output_type": "stream",
     "text": [
      "++++console: 4,SYS4,SYS\n",
      "773\n"
     ]
    }
   ],
   "source": [
    "name = test_account\n",
    "args = {'account': name, 'amount': '1.0000 SYS'}\n",
    "try:\n",
    "    r = eosapi.push_action('helloworld11', 'withdraw', args, {name:'active'})\n",
    "    print('++++console:', r['processed']['action_traces'][0]['console'])\n",
    "    print(r['processed']['elapsed'])\n",
    "except Exception as e:\n",
    "    print(e)"
   ]
  },
  {
   "cell_type": "markdown",
   "metadata": {},
   "source": [
    "### Check balance"
   ]
  },
  {
   "cell_type": "code",
   "execution_count": 17,
   "metadata": {},
   "outputs": [
    {
     "data": {
      "text/plain": [
       "10000991.0"
      ]
     },
     "execution_count": 17,
     "metadata": {},
     "output_type": "execute_result"
    }
   ],
   "source": [
    "eosapi.get_balance(test_account)"
   ]
  },
  {
   "cell_type": "markdown",
   "metadata": {},
   "source": [
    "### Check balance in binded ETH account"
   ]
  },
  {
   "cell_type": "code",
   "execution_count": 18,
   "metadata": {},
   "outputs": [
    {
     "data": {
      "text/plain": [
       "9.0"
      ]
     },
     "execution_count": 18,
     "metadata": {},
     "output_type": "execute_result"
    }
   ],
   "source": [
    "eth_account.get_balance()"
   ]
  },
  {
   "cell_type": "markdown",
   "metadata": {},
   "source": [
    "# Deploy an ethereum smart contract"
   ]
  },
  {
   "cell_type": "code",
   "execution_count": 19,
   "metadata": {},
   "outputs": [
    {
     "name": "stdout",
     "output_type": "stream",
     "text": [
      "Done!\n"
     ]
    }
   ],
   "source": [
    "from solcx import compile_source, compile_files\n",
    "\n",
    "greeter = '''pragma solidity ^0.6.0;\n",
    "contract Greeter {\n",
    "    uint value;\n",
    "    event onSetValue(uint value);\n",
    "    event onGetValue(uint value);\n",
    "    \n",
    "    constructor() public {\n",
    "        value = 1;\n",
    "    }\n",
    "\n",
    "    function getValue() payable public returns (string memory){\n",
    "        return \"hello,world\";\n",
    "    }\n",
    "\n",
    "    function setValue(uint v) payable public {\n",
    "        value = v;\n",
    "        emit onSetValue(v);\n",
    "    }\n",
    "}\n",
    "'''\n",
    "\n",
    "def compile(contract_source_code, main_class):\n",
    "    compiled_sol = compile_source(contract_source_code) # Compiled source code\n",
    "    contract_interface = compiled_sol[main_class]\n",
    "\n",
    "    return contract_interface\n",
    "\n",
    "main_class = '<stdin>:Greeter'\n",
    "contract_source_code = greeter\n",
    "contract_interface = compile(contract_source_code, main_class)\n",
    "bytecode = contract_interface['bin']\n",
    "abi = contract_interface['abi']\n",
    "print('Done!')"
   ]
  },
  {
   "cell_type": "code",
   "execution_count": 20,
   "metadata": {
    "scrolled": false
   },
   "outputs": [
    {
     "name": "stdout",
     "output_type": "stream",
     "text": [
      "++++elapsed: 1275\n",
      "0x0633A42c777f64f895dE1B0097de00C8D181A5e9\n"
     ]
    }
   ],
   "source": [
    "import rlp\n",
    "\n",
    "Greeter = w3.eth.contract(abi=abi, bytecode=bytecode)\n",
    "\n",
    "args = {'from': w3.toChecksumAddress(eth_address)}\n",
    "\n",
    "logs = Greeter.constructor().transact(args)\n",
    "contract_address = logs[0].hex()\n",
    "contract_address = w3.toChecksumAddress(contract_address)\n",
    "print(contract_address)\n"
   ]
  },
  {
   "cell_type": "markdown",
   "metadata": {},
   "source": [
    "#### Call setValue in ethereum smart contract"
   ]
  },
  {
   "cell_type": "code",
   "execution_count": 21,
   "metadata": {},
   "outputs": [
    {
     "name": "stdout",
     "output_type": "stream",
     "text": [
      "++++elapsed: 1064\n",
      "[b'\\x00\\x00\\x00\\x00\\x00\\x00\\x00\\x00\\x00\\x00\\x00\\x00\\x00\\x00\\x00\\x00\\x00\\x00\\x00\\x00', b'', [b'\\x063\\xa4,w\\x7fd\\xf8\\x95\\xde\\x1b\\x00\\x97\\xde\\x00\\xc8\\xd1\\x81\\xa5\\xe9', [b'\\xf4\\x8a\\x1d\\xc5~\\xef\\xa3\\xdeD\\x06\\xe6_\\xc0\\xfc7{%\\xd1\\x00\\xbd\\x06B\\x92\\x01\\xa0\\x1a\\x9e\\x8e\\x0e\\x1d\\x07s'], b'\\x00\\x00\\x00\\x00\\x00\\x00\\x00\\x00\\x00\\x00\\x00\\x00\\x00\\x00\\x00\\x00\\x00\\x00\\x00\\x00\\x00\\x00\\x00\\x00\\x00\\x00\\x00\\x00\\xff\\xaa\\xbb\\xcc']]\n"
     ]
    }
   ],
   "source": [
    "args = {'from': eth_address,'to':contract_address}\n",
    "logs = Greeter.functions.setValue(0xffaabbcc).transact(args)\n",
    "print(logs)"
   ]
  },
  {
   "cell_type": "markdown",
   "metadata": {},
   "source": [
    "# transfer test"
   ]
  },
  {
   "cell_type": "code",
   "execution_count": 22,
   "metadata": {},
   "outputs": [
    {
     "data": {
      "text/plain": [
       "9.0"
      ]
     },
     "execution_count": 22,
     "metadata": {},
     "output_type": "execute_result"
    }
   ],
   "source": [
    "eth_account.get_balance()"
   ]
  },
  {
   "cell_type": "code",
   "execution_count": 23,
   "metadata": {},
   "outputs": [
    {
     "data": {
      "text/plain": [
       "0.0"
      ]
     },
     "execution_count": 23,
     "metadata": {},
     "output_type": "execute_result"
    }
   ],
   "source": [
    "eth_contract_account = evm.EthAccount(main_account, contract_address)\n",
    "eth_contract_account.get_balance()"
   ]
  },
  {
   "cell_type": "markdown",
   "metadata": {},
   "source": [
    "### setValue and transfer 1.0 to contract address"
   ]
  },
  {
   "cell_type": "code",
   "execution_count": 24,
   "metadata": {},
   "outputs": [
    {
     "name": "stdout",
     "output_type": "stream",
     "text": [
      "transfer from  f375c0d7e20a15b3d35af771763ca166d54cce97 to 0x0633A42c777f64f895dE1B0097de00C8D181A5e9\n",
      "++++elapsed: 1047\n",
      "[b'\\x00\\x00\\x00\\x00\\x00\\x00\\x00\\x00\\x00\\x00\\x00\\x00\\x00\\x00\\x00\\x00\\x00\\x00\\x00\\x00', b'', [b'\\x063\\xa4,w\\x7fd\\xf8\\x95\\xde\\x1b\\x00\\x97\\xde\\x00\\xc8\\xd1\\x81\\xa5\\xe9', [b'\\xf4\\x8a\\x1d\\xc5~\\xef\\xa3\\xdeD\\x06\\xe6_\\xc0\\xfc7{%\\xd1\\x00\\xbd\\x06B\\x92\\x01\\xa0\\x1a\\x9e\\x8e\\x0e\\x1d\\x07s'], b'\\x00\\x00\\x00\\x00\\x00\\x00\\x00\\x00\\x00\\x00\\x00\\x00\\x00\\x00\\x00\\x00\\x00\\x00\\x00\\x00\\x00\\x00\\x00\\x00\\x00\\x00\\x00\\x00\\xff\\xaa\\xbb\\xcc']]\n"
     ]
    }
   ],
   "source": [
    "print('transfer from ', eth_address, 'to', contract_address)\n",
    "args = {'from': eth_address,'to':contract_address, 'value':10000}\n",
    "logs = Greeter.functions.setValue(0xffaabbcc).transact(args)\n",
    "print(logs)"
   ]
  },
  {
   "cell_type": "markdown",
   "metadata": {},
   "source": [
    "### get address info"
   ]
  },
  {
   "cell_type": "code",
   "execution_count": 25,
   "metadata": {},
   "outputs": [
    {
     "data": {
      "text/plain": [
       "8.0"
      ]
     },
     "execution_count": 25,
     "metadata": {},
     "output_type": "execute_result"
    }
   ],
   "source": [
    "eth_account.get_balance()"
   ]
  },
  {
   "cell_type": "code",
   "execution_count": 26,
   "metadata": {},
   "outputs": [
    {
     "data": {
      "text/plain": [
       "1.0"
      ]
     },
     "execution_count": 26,
     "metadata": {},
     "output_type": "execute_result"
    }
   ],
   "source": [
    "eth_contract_account.get_balance()"
   ]
  }
 ],
 "metadata": {
  "kernelspec": {
   "display_name": "Python 3",
   "language": "python",
   "name": "python3"
  },
  "language_info": {
   "codemirror_mode": {
    "name": "ipython",
    "version": 3
   },
   "file_extension": ".py",
   "mimetype": "text/x-python",
   "name": "python",
   "nbconvert_exporter": "python",
   "pygments_lexer": "ipython3",
   "version": "3.7.4"
  }
 },
 "nbformat": 4,
 "nbformat_minor": 2
}
